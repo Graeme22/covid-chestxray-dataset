{
 "cells": [
  {
   "cell_type": "code",
   "execution_count": 2,
   "metadata": {},
   "outputs": [
    {
     "name": "stdout",
     "output_type": "stream",
     "text": [
      "Index(['patientid', 'offset', 'sex', 'age', 'finding', 'survival', 'intubated',\n",
      "       'intubation_present', 'went_icu', 'needed_supplemental_O2', 'extubated',\n",
      "       'temperature', 'pO2_saturation', 'leukocyte_count', 'neutrophil_count',\n",
      "       'lymphocyte_count', 'view', 'modality', 'date', 'location', 'folder',\n",
      "       'filename', 'doi', 'url', 'license', 'clinical_notes', 'other_notes',\n",
      "       'Unnamed: 27'],\n",
      "      dtype='object')\n"
     ]
    }
   ],
   "source": [
    "import pandas as pd\n",
    "import matplotlib.pyplot as plt\n",
    "import numpy as np\n",
    "# import data\n",
    "metadata_dir = '../metadata.csv'\n",
    "metadata = pd.read_csv(metadata_dir)\n",
    "# show columns names?\n",
    "print(metadata.columns)"
   ]
  },
  {
   "cell_type": "code",
   "execution_count": 3,
   "metadata": {},
   "outputs": [
    {
     "data": {
      "text/html": [
       "<div>\n",
       "<style scoped>\n",
       "    .dataframe tbody tr th:only-of-type {\n",
       "        vertical-align: middle;\n",
       "    }\n",
       "\n",
       "    .dataframe tbody tr th {\n",
       "        vertical-align: top;\n",
       "    }\n",
       "\n",
       "    .dataframe thead th {\n",
       "        text-align: right;\n",
       "    }\n",
       "</style>\n",
       "<table border=\"1\" class=\"dataframe\">\n",
       "  <thead>\n",
       "    <tr style=\"text-align: right;\">\n",
       "      <th></th>\n",
       "      <th>patientid</th>\n",
       "      <th>offset</th>\n",
       "      <th>sex</th>\n",
       "      <th>age</th>\n",
       "      <th>finding</th>\n",
       "      <th>survival</th>\n",
       "      <th>intubated</th>\n",
       "      <th>intubation_present</th>\n",
       "      <th>went_icu</th>\n",
       "      <th>needed_supplemental_O2</th>\n",
       "      <th>...</th>\n",
       "      <th>date</th>\n",
       "      <th>location</th>\n",
       "      <th>folder</th>\n",
       "      <th>filename</th>\n",
       "      <th>doi</th>\n",
       "      <th>url</th>\n",
       "      <th>license</th>\n",
       "      <th>clinical_notes</th>\n",
       "      <th>other_notes</th>\n",
       "      <th>Unnamed: 27</th>\n",
       "    </tr>\n",
       "  </thead>\n",
       "  <tbody>\n",
       "    <tr>\n",
       "      <th>0</th>\n",
       "      <td>2</td>\n",
       "      <td>0.0</td>\n",
       "      <td>M</td>\n",
       "      <td>65.0</td>\n",
       "      <td>COVID-19</td>\n",
       "      <td>Y</td>\n",
       "      <td>NaN</td>\n",
       "      <td>NaN</td>\n",
       "      <td>NaN</td>\n",
       "      <td>NaN</td>\n",
       "      <td>...</td>\n",
       "      <td>January 22, 2020</td>\n",
       "      <td>Cho Ray Hospital, Ho Chi Minh City, Vietnam</td>\n",
       "      <td>images</td>\n",
       "      <td>auntminnie-a-2020_01_28_23_51_6665_2020_01_28_...</td>\n",
       "      <td>10.1056/nejmc2001272</td>\n",
       "      <td>https://www.nejm.org/doi/full/10.1056/NEJMc200...</td>\n",
       "      <td>NaN</td>\n",
       "      <td>infiltrate in the upper lobe of the left lung</td>\n",
       "      <td>NaN</td>\n",
       "      <td>NaN</td>\n",
       "    </tr>\n",
       "    <tr>\n",
       "      <th>1</th>\n",
       "      <td>2</td>\n",
       "      <td>3.0</td>\n",
       "      <td>M</td>\n",
       "      <td>65.0</td>\n",
       "      <td>COVID-19</td>\n",
       "      <td>Y</td>\n",
       "      <td>NaN</td>\n",
       "      <td>NaN</td>\n",
       "      <td>NaN</td>\n",
       "      <td>NaN</td>\n",
       "      <td>...</td>\n",
       "      <td>January 25, 2020</td>\n",
       "      <td>Cho Ray Hospital, Ho Chi Minh City, Vietnam</td>\n",
       "      <td>images</td>\n",
       "      <td>auntminnie-b-2020_01_28_23_51_6665_2020_01_28_...</td>\n",
       "      <td>10.1056/nejmc2001272</td>\n",
       "      <td>https://www.nejm.org/doi/full/10.1056/NEJMc200...</td>\n",
       "      <td>NaN</td>\n",
       "      <td>progressive infiltrate and consolidation</td>\n",
       "      <td>NaN</td>\n",
       "      <td>NaN</td>\n",
       "    </tr>\n",
       "    <tr>\n",
       "      <th>2</th>\n",
       "      <td>2</td>\n",
       "      <td>5.0</td>\n",
       "      <td>M</td>\n",
       "      <td>65.0</td>\n",
       "      <td>COVID-19</td>\n",
       "      <td>Y</td>\n",
       "      <td>NaN</td>\n",
       "      <td>NaN</td>\n",
       "      <td>NaN</td>\n",
       "      <td>NaN</td>\n",
       "      <td>...</td>\n",
       "      <td>January 27, 2020</td>\n",
       "      <td>Cho Ray Hospital, Ho Chi Minh City, Vietnam</td>\n",
       "      <td>images</td>\n",
       "      <td>auntminnie-c-2020_01_28_23_51_6665_2020_01_28_...</td>\n",
       "      <td>10.1056/nejmc2001272</td>\n",
       "      <td>https://www.nejm.org/doi/full/10.1056/NEJMc200...</td>\n",
       "      <td>NaN</td>\n",
       "      <td>progressive infiltrate and consolidation</td>\n",
       "      <td>NaN</td>\n",
       "      <td>NaN</td>\n",
       "    </tr>\n",
       "    <tr>\n",
       "      <th>3</th>\n",
       "      <td>2</td>\n",
       "      <td>6.0</td>\n",
       "      <td>M</td>\n",
       "      <td>65.0</td>\n",
       "      <td>COVID-19</td>\n",
       "      <td>Y</td>\n",
       "      <td>NaN</td>\n",
       "      <td>NaN</td>\n",
       "      <td>NaN</td>\n",
       "      <td>NaN</td>\n",
       "      <td>...</td>\n",
       "      <td>January 28, 2020</td>\n",
       "      <td>Cho Ray Hospital, Ho Chi Minh City, Vietnam</td>\n",
       "      <td>images</td>\n",
       "      <td>auntminnie-d-2020_01_28_23_51_6665_2020_01_28_...</td>\n",
       "      <td>10.1056/nejmc2001272</td>\n",
       "      <td>https://www.nejm.org/doi/full/10.1056/NEJMc200...</td>\n",
       "      <td>NaN</td>\n",
       "      <td>progressive infiltrate and consolidation</td>\n",
       "      <td>NaN</td>\n",
       "      <td>NaN</td>\n",
       "    </tr>\n",
       "    <tr>\n",
       "      <th>4</th>\n",
       "      <td>4</td>\n",
       "      <td>0.0</td>\n",
       "      <td>F</td>\n",
       "      <td>52.0</td>\n",
       "      <td>COVID-19</td>\n",
       "      <td>NaN</td>\n",
       "      <td>NaN</td>\n",
       "      <td>NaN</td>\n",
       "      <td>NaN</td>\n",
       "      <td>NaN</td>\n",
       "      <td>...</td>\n",
       "      <td>January 25, 2020</td>\n",
       "      <td>Changhua Christian Hospital, Changhua City, Ta...</td>\n",
       "      <td>images</td>\n",
       "      <td>nejmc2001573_f1a.jpeg</td>\n",
       "      <td>10.1056/NEJMc2001573</td>\n",
       "      <td>https://www.nejm.org/doi/full/10.1056/NEJMc200...</td>\n",
       "      <td>NaN</td>\n",
       "      <td>diffuse infiltrates in the bilateral lower lungs</td>\n",
       "      <td>NaN</td>\n",
       "      <td>NaN</td>\n",
       "    </tr>\n",
       "  </tbody>\n",
       "</table>\n",
       "<p>5 rows × 28 columns</p>\n",
       "</div>"
      ],
      "text/plain": [
       "   patientid  offset sex   age   finding survival intubated  \\\n",
       "0          2     0.0   M  65.0  COVID-19        Y       NaN   \n",
       "1          2     3.0   M  65.0  COVID-19        Y       NaN   \n",
       "2          2     5.0   M  65.0  COVID-19        Y       NaN   \n",
       "3          2     6.0   M  65.0  COVID-19        Y       NaN   \n",
       "4          4     0.0   F  52.0  COVID-19      NaN       NaN   \n",
       "\n",
       "  intubation_present went_icu needed_supplemental_O2     ...      \\\n",
       "0                NaN      NaN                    NaN     ...       \n",
       "1                NaN      NaN                    NaN     ...       \n",
       "2                NaN      NaN                    NaN     ...       \n",
       "3                NaN      NaN                    NaN     ...       \n",
       "4                NaN      NaN                    NaN     ...       \n",
       "\n",
       "               date                                           location  \\\n",
       "0  January 22, 2020        Cho Ray Hospital, Ho Chi Minh City, Vietnam   \n",
       "1  January 25, 2020        Cho Ray Hospital, Ho Chi Minh City, Vietnam   \n",
       "2  January 27, 2020        Cho Ray Hospital, Ho Chi Minh City, Vietnam   \n",
       "3  January 28, 2020        Cho Ray Hospital, Ho Chi Minh City, Vietnam   \n",
       "4  January 25, 2020  Changhua Christian Hospital, Changhua City, Ta...   \n",
       "\n",
       "   folder                                           filename  \\\n",
       "0  images  auntminnie-a-2020_01_28_23_51_6665_2020_01_28_...   \n",
       "1  images  auntminnie-b-2020_01_28_23_51_6665_2020_01_28_...   \n",
       "2  images  auntminnie-c-2020_01_28_23_51_6665_2020_01_28_...   \n",
       "3  images  auntminnie-d-2020_01_28_23_51_6665_2020_01_28_...   \n",
       "4  images                              nejmc2001573_f1a.jpeg   \n",
       "\n",
       "                    doi                                                url  \\\n",
       "0  10.1056/nejmc2001272  https://www.nejm.org/doi/full/10.1056/NEJMc200...   \n",
       "1  10.1056/nejmc2001272  https://www.nejm.org/doi/full/10.1056/NEJMc200...   \n",
       "2  10.1056/nejmc2001272  https://www.nejm.org/doi/full/10.1056/NEJMc200...   \n",
       "3  10.1056/nejmc2001272  https://www.nejm.org/doi/full/10.1056/NEJMc200...   \n",
       "4  10.1056/NEJMc2001573  https://www.nejm.org/doi/full/10.1056/NEJMc200...   \n",
       "\n",
       "  license                                    clinical_notes other_notes  \\\n",
       "0     NaN     infiltrate in the upper lobe of the left lung         NaN   \n",
       "1     NaN          progressive infiltrate and consolidation         NaN   \n",
       "2     NaN          progressive infiltrate and consolidation         NaN   \n",
       "3     NaN          progressive infiltrate and consolidation         NaN   \n",
       "4     NaN  diffuse infiltrates in the bilateral lower lungs         NaN   \n",
       "\n",
       "  Unnamed: 27  \n",
       "0         NaN  \n",
       "1         NaN  \n",
       "2         NaN  \n",
       "3         NaN  \n",
       "4         NaN  \n",
       "\n",
       "[5 rows x 28 columns]"
      ]
     },
     "execution_count": 3,
     "metadata": {},
     "output_type": "execute_result"
    }
   ],
   "source": [
    "# head first 5 rows\n",
    "metadata.head()"
   ]
  },
  {
   "cell_type": "code",
   "execution_count": 4,
   "metadata": {},
   "outputs": [
    {
     "data": {
      "text/plain": [
       "(360, 28)"
      ]
     },
     "execution_count": 4,
     "metadata": {},
     "output_type": "execute_result"
    }
   ],
   "source": [
    "metadata.shape"
   ]
  },
  {
   "cell_type": "code",
   "execution_count": 5,
   "metadata": {},
   "outputs": [
    {
     "data": {
      "text/plain": [
       "COVID-19          284\n",
       "Streptococcus      17\n",
       "SARS               16\n",
       "Pneumocystis       15\n",
       "COVID-19, ARDS     12\n",
       "ARDS                4\n",
       "E.Coli              4\n",
       "No Finding          3\n",
       "Legionella          2\n",
       "Chlamydophila       2\n",
       "Klebsiella          1\n",
       "Name: finding, dtype: int64"
      ]
     },
     "execution_count": 5,
     "metadata": {},
     "output_type": "execute_result"
    }
   ],
   "source": [
    "metadata.finding.value_counts()"
   ]
  },
  {
   "cell_type": "code",
   "execution_count": 6,
   "metadata": {},
   "outputs": [
    {
     "data": {
      "text/plain": [
       "<matplotlib.axes._subplots.AxesSubplot at 0x1a1cb95e630>"
      ]
     },
     "execution_count": 6,
     "metadata": {},
     "output_type": "execute_result"
    },
    {
     "data": {
      "image/png": "[encoded data removed]",
      "text/plain": [
       "<Figure size 2160x1440 with 1 Axes>"
      ]
     },
     "metadata": {},
     "output_type": "display_data"
    }
   ],
   "source": [
    "metadata.finding.value_counts().plot(kind=\"pie\",figsize = (30,20),autopct='%.2f')"
   ]
  },
  {
   "cell_type": "code",
   "execution_count": 7,
   "metadata": {},
   "outputs": [
    {
     "data": {
      "text/plain": [
       "109"
      ]
     },
     "execution_count": 7,
     "metadata": {},
     "output_type": "execute_result"
    }
   ],
   "source": [
    "metadata.survival.value_counts().sum()"
   ]
  },
  {
   "cell_type": "code",
   "execution_count": 8,
   "metadata": {},
   "outputs": [],
   "source": [
    "metadata[\"survival\"].fillna(\"unknown\", inplace = True) "
   ]
  },
  {
   "cell_type": "code",
   "execution_count": 9,
   "metadata": {},
   "outputs": [
    {
     "data": {
      "text/plain": [
       "360"
      ]
     },
     "execution_count": 9,
     "metadata": {},
     "output_type": "execute_result"
    }
   ],
   "source": [
    "metadata.survival.value_counts().sum()"
   ]
  },
  {
   "cell_type": "code",
   "execution_count": 10,
   "metadata": {},
   "outputs": [
    {
     "data": {
      "text/plain": [
       "<matplotlib.axes._subplots.AxesSubplot at 0x1a1ce641240>"
      ]
     },
     "execution_count": 10,
     "metadata": {},
     "output_type": "execute_result"
    },
    {
     "data": {
      "image/png": "[encoded data removed]",
      "text/plain": [
       "<Figure size 576x576 with 1 Axes>"
      ]
     },
     "metadata": {},
     "output_type": "display_data"
    }
   ],
   "source": [
    "metadata.survival.value_counts().plot(kind=\"pie\",figsize = (8,8),autopct='%.2f')"
   ]
  },
  {
   "cell_type": "code",
   "execution_count": 11,
   "metadata": {},
   "outputs": [
    {
     "data": {
      "text/plain": [
       "PA               208\n",
       "AP                42\n",
       "Axial             41\n",
       "AP Supine         38\n",
       "L                 27\n",
       "Coronal            3\n",
       "AP semi erect      1\n",
       "Name: view, dtype: int64"
      ]
     },
     "execution_count": 11,
     "metadata": {},
     "output_type": "execute_result"
    }
   ],
   "source": [
    "metadata.view.value_counts()"
   ]
  },
  {
   "cell_type": "code",
   "execution_count": 12,
   "metadata": {},
   "outputs": [],
   "source": [
    "x_raydata = metadata[metadata.view == 'PA']\n"
   ]
  },
  {
   "cell_type": "code",
   "execution_count": 13,
   "metadata": {},
   "outputs": [
    {
     "data": {
      "text/plain": [
       "COVID-19          145\n",
       "SARS               16\n",
       "Pneumocystis       13\n",
       "Streptococcus      13\n",
       "COVID-19, ARDS     11\n",
       "ARDS                4\n",
       "No Finding          2\n",
       "Legionella          2\n",
       "Chlamydophila       1\n",
       "Klebsiella          1\n",
       "Name: finding, dtype: int64"
      ]
     },
     "execution_count": 13,
     "metadata": {},
     "output_type": "execute_result"
    }
   ],
   "source": [
    "x_raydata.finding.value_counts()"
   ]
  },
  {
   "cell_type": "code",
   "execution_count": 13,
   "metadata": {},
   "outputs": [],
   "source": [
    "'''\n",
    "This code finds all images of patients of a specified VIRUS and X-Ray view and stores selected image to an OUTPUT directory\n",
    "+ It uses metadata.csv for searching and retrieving images name\n",
    "+ Using ./images folder it selects the retrieved images and copies them in output folder\n",
    "Code can be modified for any combination of selection of images\n",
    "'''\n",
    "\n",
    "import pandas as pd\n",
    "import shutil\n",
    "import os\n",
    "\n",
    "# Selecting all combination of 'COVID-19' patients with 'PA' X-Ray view\n",
    "virus = \"COVID-19\" # Virus to look for\n",
    "x_ray_view = \"PA\" # View of X-Ray\n",
    "\n",
    "metadata = \"../metadata.csv\" # Meta info\n",
    "imageDir = \"../images\" # Directory of images\n",
    "outputDir = '../covid' # Output directory to store selected images\n",
    "\n",
    "metadata_csv = pd.read_csv(metadata)\n",
    "\n",
    "# loop over the rows of the COVID-19 data frame\n",
    "for (i, row) in metadata_csv.iterrows():\n",
    "\tif row[\"finding\"] != virus or row[\"view\"] != x_ray_view:\n",
    "\t\tcontinue\n",
    "\n",
    "\tfilename = row[\"filename\"].split(os.path.sep)[-1]\n",
    "\tfilePath = os.path.sep.join([imageDir, filename])\n",
    "\tshutil.copy2(filePath, outputDir)"
   ]
  },
  {
   "cell_type": "code",
   "execution_count": 13,
   "metadata": {},
   "outputs": [],
   "source": [
    "'''\n",
    "This code finds all images of patients of a specified VIRUS and X-Ray view and stores selected image to an OUTPUT directory\n",
    "+ It uses metadata.csv for searching and retrieving images name\n",
    "+ Using ./images folder it selects the retrieved images and copies them in output folder\n",
    "Code can be modified for any combination of selection of images\n",
    "'''\n",
    "\n",
    "import pandas as pd\n",
    "import shutil\n",
    "import os\n",
    "\n",
    "# Selecting all combination of 'COVID-19' patients with 'PA' X-Ray view\n",
    "virus = \"Streptococcus\" # Virus to look for\n",
    "x_ray_view = \"PA\" # View of X-Ray\n",
    "\n",
    "metadata = \"../metadata.csv\" # Meta info\n",
    "imageDir = \"../images\" # Directory of images\n",
    "outputDir = '../Streptococcus' # Output directory to store selected images\n",
    "\n",
    "metadata_csv = pd.read_csv(metadata)\n",
    "\n",
    "# loop over the rows of the COVID-19 data frame\n",
    "for (i, row) in metadata_csv.iterrows():\n",
    "\tif row[\"finding\"] != virus or row[\"view\"] != x_ray_view:\n",
    "\t\tcontinue\n",
    "\n",
    "\tfilename = row[\"filename\"].split(os.path.sep)[-1]\n",
    "\tfilePath = os.path.sep.join([imageDir, filename])\n",
    "\tshutil.copy2(filePath, outputDir)"
   ]
  },
  {
   "cell_type": "code",
   "execution_count": 14,
   "metadata": {},
   "outputs": [],
   "source": [
    "'''\n",
    "This code finds all images of patients of a specified VIRUS and X-Ray view and stores selected image to an OUTPUT directory\n",
    "+ It uses metadata.csv for searching and retrieving images name\n",
    "+ Using ./images folder it selects the retrieved images and copies them in output folder\n",
    "Code can be modified for any combination of selection of images\n",
    "'''\n",
    "\n",
    "import pandas as pd\n",
    "import shutil\n",
    "import os\n",
    "\n",
    "# Selecting all combination of 'COVID-19' patients with 'PA' X-Ray view\n",
    "virus = \"SARS\" # Virus to look for\n",
    "x_ray_view = \"PA\" # View of X-Ray\n",
    "\n",
    "metadata = \"../metadata.csv\" # Meta info\n",
    "imageDir = \"../images\" # Directory of images\n",
    "outputDir = '../SARS' # Output directory to store selected images\n",
    "\n",
    "metadata_csv = pd.read_csv(metadata)\n",
    "\n",
    "# loop over the rows of the COVID-19 data frame\n",
    "for (i, row) in metadata_csv.iterrows():\n",
    "\tif row[\"finding\"] != virus or row[\"view\"] != x_ray_view:\n",
    "\t\tcontinue\n",
    "\n",
    "\tfilename = row[\"filename\"].split(os.path.sep)[-1]\n",
    "\tfilePath = os.path.sep.join([imageDir, filename])\n",
    "\tshutil.copy2(filePath, outputDir)"
   ]
  },
  {
   "cell_type": "code",
   "execution_count": 15,
   "metadata": {},
   "outputs": [],
   "source": [
    "'''\n",
    "This code finds all images of patients of a specified VIRUS and X-Ray view and stores selected image to an OUTPUT directory\n",
    "+ It uses metadata.csv for searching and retrieving images name\n",
    "+ Using ./images folder it selects the retrieved images and copies them in output folder\n",
    "Code can be modified for any combination of selection of images\n",
    "'''\n",
    "\n",
    "import pandas as pd\n",
    "import shutil\n",
    "import os\n",
    "\n",
    "# Selecting all combination of 'COVID-19' patients with 'PA' X-Ray view\n",
    "virus = \"Pneumocystis\" # Virus to look for\n",
    "x_ray_view = \"PA\" # View of X-Ray\n",
    "\n",
    "metadata = \"../metadata.csv\" # Meta info\n",
    "imageDir = \"../images\" # Directory of images\n",
    "outputDir = '../Pneumocystis' # Output directory to store selected images\n",
    "\n",
    "metadata_csv = pd.read_csv(metadata)\n",
    "\n",
    "# loop over the rows of the COVID-19 data frame\n",
    "for (i, row) in metadata_csv.iterrows():\n",
    "\tif row[\"finding\"] != virus or row[\"view\"] != x_ray_view:\n",
    "\t\tcontinue\n",
    "\n",
    "\tfilename = row[\"filename\"].split(os.path.sep)[-1]\n",
    "\tfilePath = os.path.sep.join([imageDir, filename])\n",
    "\tshutil.copy2(filePath, outputDir)"
   ]
  },
  {
   "cell_type": "code",
   "execution_count": 16,
   "metadata": {},
   "outputs": [],
   "source": [
    "'''\n",
    "This code finds all images of patients of a specified VIRUS and X-Ray view and stores selected image to an OUTPUT directory\n",
    "+ It uses metadata.csv for searching and retrieving images name\n",
    "+ Using ./images folder it selects the retrieved images and copies them in output folder\n",
    "Code can be modified for any combination of selection of images\n",
    "'''\n",
    "\n",
    "import pandas as pd\n",
    "import shutil\n",
    "import os\n",
    "\n",
    "# Selecting all combination of 'COVID-19' patients with 'PA' X-Ray view\n",
    "virus = \"COVID-19, ARDS\" # Virus to look for\n",
    "x_ray_view = \"PA\" # View of X-Ray\n",
    "\n",
    "metadata = \"../metadata.csv\" # Meta info\n",
    "imageDir = \"../images\" # Directory of images\n",
    "outputDir = '../COVID-19_ARDS' # Output directory to store selected images\n",
    "\n",
    "metadata_csv = pd.read_csv(metadata)\n",
    "\n",
    "# loop over the rows of the COVID-19 data frame\n",
    "for (i, row) in metadata_csv.iterrows():\n",
    "\tif row[\"finding\"] != virus or row[\"view\"] != x_ray_view:\n",
    "\t\tcontinue\n",
    "\n",
    "\tfilename = row[\"filename\"].split(os.path.sep)[-1]\n",
    "\tfilePath = os.path.sep.join([imageDir, filename])\n",
    "\tshutil.copy2(filePath, outputDir)"
   ]
  },
  {
   "cell_type": "code",
   "execution_count": 17,
   "metadata": {},
   "outputs": [],
   "source": [
    "'''\n",
    "This code finds all images of patients of a specified VIRUS and X-Ray view and stores selected image to an OUTPUT directory\n",
    "+ It uses metadata.csv for searching and retrieving images name\n",
    "+ Using ./images folder it selects the retrieved images and copies them in output folder\n",
    "Code can be modified for any combination of selection of images\n",
    "'''\n",
    "\n",
    "import pandas as pd\n",
    "import shutil\n",
    "import os\n",
    "\n",
    "# Selecting all combination of 'COVID-19' patients with 'PA' X-Ray view\n",
    "virus = \"ARDS\" # Virus to look for\n",
    "x_ray_view = \"PA\" # View of X-Ray\n",
    "\n",
    "metadata = \"../metadata.csv\" # Meta info\n",
    "imageDir = \"../images\" # Directory of images\n",
    "outputDir = '../ARDS' # Output directory to store selected images\n",
    "\n",
    "metadata_csv = pd.read_csv(metadata)\n",
    "\n",
    "# loop over the rows of the COVID-19 data frame\n",
    "for (i, row) in metadata_csv.iterrows():\n",
    "\tif row[\"finding\"] != virus or row[\"view\"] != x_ray_view:\n",
    "\t\tcontinue\n",
    "\n",
    "\tfilename = row[\"filename\"].split(os.path.sep)[-1]\n",
    "\tfilePath = os.path.sep.join([imageDir, filename])\n",
    "\tshutil.copy2(filePath, outputDir)"
   ]
  },
  {
   "cell_type": "code",
   "execution_count": 18,
   "metadata": {},
   "outputs": [],
   "source": [
    "'''\n",
    "This code finds all images of patients of a specified VIRUS and X-Ray view and stores selected image to an OUTPUT directory\n",
    "+ It uses metadata.csv for searching and retrieving images name\n",
    "+ Using ./images folder it selects the retrieved images and copies them in output folder\n",
    "Code can be modified for any combination of selection of images\n",
    "'''\n",
    "\n",
    "import pandas as pd\n",
    "import shutil\n",
    "import os\n",
    "\n",
    "# Selecting all combination of 'COVID-19' patients with 'PA' X-Ray view\n",
    "virus = \"Legionella\" # Virus to look for\n",
    "x_ray_view = \"PA\" # View of X-Ray\n",
    "\n",
    "metadata = \"../metadata.csv\" # Meta info\n",
    "imageDir = \"../images\" # Directory of images\n",
    "outputDir = '../Legionella' # Output directory to store selected images\n",
    "\n",
    "metadata_csv = pd.read_csv(metadata)\n",
    "\n",
    "# loop over the rows of the COVID-19 data frame\n",
    "for (i, row) in metadata_csv.iterrows():\n",
    "\tif row[\"finding\"] != virus or row[\"view\"] != x_ray_view:\n",
    "\t\tcontinue\n",
    "\n",
    "\tfilename = row[\"filename\"].split(os.path.sep)[-1]\n",
    "\tfilePath = os.path.sep.join([imageDir, filename])\n",
    "\tshutil.copy2(filePath, outputDir)"
   ]
  },
  {
   "cell_type": "code",
   "execution_count": 19,
   "metadata": {},
   "outputs": [],
   "source": [
    "'''\n",
    "This code finds all images of patients of a specified VIRUS and X-Ray view and stores selected image to an OUTPUT directory\n",
    "+ It uses metadata.csv for searching and retrieving images name\n",
    "+ Using ./images folder it selects the retrieved images and copies them in output folder\n",
    "Code can be modified for any combination of selection of images\n",
    "'''\n",
    "\n",
    "import pandas as pd\n",
    "import shutil\n",
    "import os\n",
    "\n",
    "# Selecting all combination of 'COVID-19' patients with 'PA' X-Ray view\n",
    "virus = \"No Finding\" # Virus to look for\n",
    "x_ray_view = \"PA\" # View of X-Ray\n",
    "\n",
    "metadata = \"../metadata.csv\" # Meta info\n",
    "imageDir = \"../images\" # Directory of images\n",
    "outputDir = '../No Finding' # Output directory to store selected images\n",
    "\n",
    "metadata_csv = pd.read_csv(metadata)\n",
    "\n",
    "# loop over the rows of the COVID-19 data frame\n",
    "for (i, row) in metadata_csv.iterrows():\n",
    "\tif row[\"finding\"] != virus or row[\"view\"] != x_ray_view:\n",
    "\t\tcontinue\n",
    "\n",
    "\tfilename = row[\"filename\"].split(os.path.sep)[-1]\n",
    "\tfilePath = os.path.sep.join([imageDir, filename])\n",
    "\tshutil.copy2(filePath, outputDir)"
   ]
  },
  {
   "cell_type": "code",
   "execution_count": null,
   "metadata": {},
   "outputs": [],
   "source": []
  }
 ],
 "metadata": {
  "kernelspec": {
   "display_name": "Python 3",
   "language": "python",
   "name": "python3"
  },
  "language_info": {
   "codemirror_mode": {
    "name": "ipython",
    "version": 3
   },
   "file_extension": ".py",
   "mimetype": "text/x-python",
   "name": "python",
   "nbconvert_exporter": "python",
   "pygments_lexer": "ipython3",
   "version": "3.7.1"
  }
 },
 "nbformat": 4,
 "nbformat_minor": 2
}
