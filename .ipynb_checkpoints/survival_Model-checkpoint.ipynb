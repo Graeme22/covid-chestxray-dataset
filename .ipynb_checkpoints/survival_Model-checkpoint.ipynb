{
 "cells": [
  {
   "cell_type": "code",
   "execution_count": 1,
   "metadata": {},
   "outputs": [
    {
     "name": "stderr",
     "output_type": "stream",
     "text": [
      "C:\\Users\\walsa\\Anaconda3\\lib\\site-packages\\numpy\\_distributor_init.py:32: UserWarning: loaded more than 1 DLL from .libs:\n",
      "C:\\Users\\walsa\\Anaconda3\\lib\\site-packages\\numpy\\.libs\\libopenblas.IPBC74C7KURV7CB2PKT5Z5FNR3SIBV4J.gfortran-win_amd64.dll\n",
      "C:\\Users\\walsa\\Anaconda3\\lib\\site-packages\\numpy\\.libs\\libopenblas.PYQHXLVVQ7VESDPUVUADXEVJOBGHJPAY.gfortran-win_amd64.dll\n",
      "  stacklevel=1)\n",
      "C:\\Users\\walsa\\Anaconda3\\lib\\site-packages\\tensorflow\\python\\framework\\dtypes.py:526: FutureWarning: Passing (type, 1) or '1type' as a synonym of type is deprecated; in a future version of numpy, it will be understood as (type, (1,)) / '(1,)type'.\n",
      "  _np_qint8 = np.dtype([(\"qint8\", np.int8, 1)])\n",
      "C:\\Users\\walsa\\Anaconda3\\lib\\site-packages\\tensorflow\\python\\framework\\dtypes.py:527: FutureWarning: Passing (type, 1) or '1type' as a synonym of type is deprecated; in a future version of numpy, it will be understood as (type, (1,)) / '(1,)type'.\n",
      "  _np_quint8 = np.dtype([(\"quint8\", np.uint8, 1)])\n",
      "C:\\Users\\walsa\\Anaconda3\\lib\\site-packages\\tensorflow\\python\\framework\\dtypes.py:528: FutureWarning: Passing (type, 1) or '1type' as a synonym of type is deprecated; in a future version of numpy, it will be understood as (type, (1,)) / '(1,)type'.\n",
      "  _np_qint16 = np.dtype([(\"qint16\", np.int16, 1)])\n",
      "C:\\Users\\walsa\\Anaconda3\\lib\\site-packages\\tensorflow\\python\\framework\\dtypes.py:529: FutureWarning: Passing (type, 1) or '1type' as a synonym of type is deprecated; in a future version of numpy, it will be understood as (type, (1,)) / '(1,)type'.\n",
      "  _np_quint16 = np.dtype([(\"quint16\", np.uint16, 1)])\n",
      "C:\\Users\\walsa\\Anaconda3\\lib\\site-packages\\tensorflow\\python\\framework\\dtypes.py:530: FutureWarning: Passing (type, 1) or '1type' as a synonym of type is deprecated; in a future version of numpy, it will be understood as (type, (1,)) / '(1,)type'.\n",
      "  _np_qint32 = np.dtype([(\"qint32\", np.int32, 1)])\n",
      "C:\\Users\\walsa\\Anaconda3\\lib\\site-packages\\tensorflow\\python\\framework\\dtypes.py:535: FutureWarning: Passing (type, 1) or '1type' as a synonym of type is deprecated; in a future version of numpy, it will be understood as (type, (1,)) / '(1,)type'.\n",
      "  np_resource = np.dtype([(\"resource\", np.ubyte, 1)])\n"
     ]
    }
   ],
   "source": [
    "import tensorflow as tf\n",
    "import tensorflow.contrib.keras as keras\n",
    "from PIL import Image\n",
    "from sklearn.model_selection import train_test_split as ttsplit\n",
    "import numpy as np\n",
    "import matplotlib.pyplot as plt\n",
    "from IPython.display import clear_output"
   ]
  },
  {
   "cell_type": "code",
   "execution_count": 2,
   "metadata": {},
   "outputs": [
    {
     "name": "stdout",
     "output_type": "stream",
     "text": [
      "Training set: (60000, 28, 28) and Training Targets: (60000,)\n",
      "Test set: (10000, 28, 28) and test targets: (10000,)\n"
     ]
    },
    {
     "data": {
      "image/png": "[encoded data removed]",
      "text/plain": [
       "<matplotlib.figure.Figure at 0x1be714d7ba8>"
      ]
     },
     "metadata": {},
     "output_type": "display_data"
    }
   ],
   "source": [
    "# MNIST handwritten, 60k 28*28 grayscale images of the 10 digits,\n",
    "# along with a test set of 10k images\n",
    "# http://yann.lecun.com/exdb/mnist/\n",
    "\n",
    "# load data\n",
    "(x_train0, y_train0), (x_test0, y_test0) = keras.datasets.mnist.load_data()\n",
    "print('Training set: {} and Training Targets: {}'.format(x_train0.shape, y_train0.shape))\n",
    "print('Test set: {} and test targets: {}'.format(x_test0.shape, y_test0.shape))\n",
    "#print('First training data: {}. \\n Its size is: {}'.format(x_train[0], x_train[0].shape))\n",
    "\n",
    "#show first 16 images\n",
    "nImg = 4\n",
    "for i in range(nImg*nImg):\n",
    "    plt.subplot(nImg, nImg, i+1)\n",
    "    plt.imshow(x_train0[i], cmap = 'Greys_r')\n",
    "plt.show()\n",
    "\n",
    "# set seeds\n",
    "np.random.seed(9987)\n",
    "tf.set_random_seed(9987)"
   ]
  },
  {
   "cell_type": "code",
   "execution_count": 7,
   "metadata": {},
   "outputs": [
    {
     "name": "stdout",
     "output_type": "stream",
     "text": [
      "Training Set (42000, 28, 28, 1) (42000, 10)\n",
      "validation Set (18000, 28, 28, 1) (18000, 10)\n"
     ]
    }
   ],
   "source": [
    "# preprocessing data\n",
    "#1 reshape images\n",
    "x_train = np.reshape(x_train0, [x_train0.shape[0], x_train0.shape[1], x_train0.shape[2], 1])\n",
    "x_test = np.reshape(x_test0, [x_test0.shape[0], x_test0.shape[1], x_test0.shape[2], 1])\n",
    "\n",
    "x_train = x_train.astype('float32')\n",
    "x_test = x_test.astype('float32')\n",
    "x_train /= 255\n",
    "x_test /= 255\n",
    "\n",
    "#generate class labels\n",
    "y_train = keras.utils.to_categorical(y_train0)\n",
    "y_test = keras.utils.to_categorical(y_test0)\n",
    "\n",
    "\n",
    "# 30% of training set will be used for validation, and we do a hard cut to avoid randomness\n",
    "p = 0.3\n",
    "x_train_1, x_val, y_train_1, y_val = ttsplit(x_train, y_train, test_size = p, random_state = 0) \n",
    "\n",
    "print('Training Set', x_train_1.shape, y_train_1.shape)\n",
    "print('validation Set', x_val.shape, y_val.shape)"
   ]
  },
  {
   "cell_type": "code",
   "execution_count": 8,
   "metadata": {},
   "outputs": [
    {
     "name": "stdout",
     "output_type": "stream",
     "text": [
      "_________________________________________________________________\n",
      "Layer (type)                 Output Shape              Param #   \n",
      "=================================================================\n",
      "conv2d_3 (Conv2D)            (None, 26, 26, 16)        160       \n",
      "_________________________________________________________________\n",
      "max_pooling2d_3 (MaxPooling2 (None, 13, 13, 16)        0         \n",
      "_________________________________________________________________\n",
      "conv2d_4 (Conv2D)            (None, 11, 11, 32)        4640      \n",
      "_________________________________________________________________\n",
      "max_pooling2d_4 (MaxPooling2 (None, 5, 5, 32)          0         \n",
      "_________________________________________________________________\n",
      "flatten_2 (Flatten)          (None, 800)               0         \n",
      "_________________________________________________________________\n",
      "dense_3 (Dense)              (None, 64)                51264     \n",
      "_________________________________________________________________\n",
      "dense_4 (Dense)              (None, 10)                650       \n",
      "=================================================================\n",
      "Total params: 56,714.0\n",
      "Trainable params: 56,714.0\n",
      "Non-trainable params: 0.0\n",
      "_________________________________________________________________\n"
     ]
    }
   ],
   "source": [
    "#implement a feedforward NN: 2 hidden layers each have 50 hidden unites with tanh activation,\n",
    "# and one output layer with 10 units for the 10 classes\n",
    "model = keras.models.Sequential()\n",
    "\n",
    "# first Conv layer\n",
    "model.add(keras.layers.Conv2D(\n",
    "    16,\n",
    "    (3,3),\n",
    "    activation = 'relu',\n",
    "    input_shape = (28, 28,1)\n",
    "))\n",
    "model.add(keras.layers.MaxPooling2D((2, 2)))\n",
    "\n",
    "#second\n",
    "model.add(keras.layers.Conv2D(\n",
    "    32,\n",
    "    (3,3),\n",
    "    activation = 'relu'\n",
    "))\n",
    "model.add(keras.layers.MaxPooling2D((2, 2)))\n",
    "\n",
    "#3rd\n",
    "model.add(keras.layers.Flatten())\n",
    "model.add(keras.layers.Dense(64, activation = 'relu'))\n",
    "#4th\n",
    "model.add(keras.layers.Dense(10, activation = 'softmax'))\n",
    "\n",
    "adam_opt = keras.optimizers.Adam(lr=0.001, beta_1=0.9, beta_2=0.999)\n",
    "\n",
    "model.compile(optimizer= adam_opt, \n",
    "              loss='categorical_crossentropy',\n",
    "              metrics = ['accuracy'])\n",
    "model.summary()"
   ]
  },
  {
   "cell_type": "code",
   "execution_count": 9,
   "metadata": {
    "collapsed": true
   },
   "outputs": [],
   "source": [
    "## live plot for realtime performance visualization \n",
    "class LivePlot(keras.callbacks.Callback):\n",
    "    def on_train_begin(self, logs={}):\n",
    "        self.i = 0\n",
    "        self.x = []\n",
    "        self.losses = []\n",
    "        self.val_losses = []\n",
    "        self.acc = []\n",
    "        self.val_acc = []\n",
    "        self.fig = plt.figure()\n",
    "        self.logs = []\n",
    "\n",
    "    def on_epoch_end(self, epoch, logs={}):\n",
    "        self.logs.append(logs)\n",
    "        self.x.append(self.i)\n",
    "        self.losses.append(logs.get('loss'))\n",
    "        self.val_losses.append(logs.get('val_loss'))\n",
    "        self.acc.append(logs.get('acc'))\n",
    "        self.val_acc.append(logs.get('val_acc'))\n",
    "        self.i += 1\n",
    "        f, (ax1, ax2) = plt.subplots(1, 2, sharex=True)\n",
    "        \n",
    "        clear_output(wait=True)\n",
    "        \n",
    "        ax1.set_yscale('log')\n",
    "        ax1.plot(self.x, self.losses, label=\"training loss\")\n",
    "        ax1.plot(self.x, self.val_losses, label=\"validation loss\")\n",
    "        ax1.legend()\n",
    "        \n",
    "        ax2.plot(self.x, self.acc, label=\"training accuracy\")\n",
    "        ax2.plot(self.x, self.val_acc, label=\"validation accuracy\")\n",
    "        ax2.legend()\n",
    "        plt.show();      \n",
    "lossPlot = LivePlot()"
   ]
  },
  {
   "cell_type": "code",
   "execution_count": null,
   "metadata": {},
   "outputs": [
    {
     "data": {
      "text/plain": [
       "<matplotlib.figure.Figure at 0x1be754226a0>"
      ]
     },
     "metadata": {},
     "output_type": "display_data"
    },
    {
     "data": {
      "image/png": "[encoded data removed]",
      "text/plain": [
       "<matplotlib.figure.Figure at 0x1be7149d588>"
      ]
     },
     "metadata": {},
     "output_type": "display_data"
    },
    {
     "name": "stdout",
     "output_type": "stream",
     "text": [
      "42000/42000 [==============================] - 44s - loss: 0.2929 - acc: 0.9160 - val_loss: 0.1084 - val_acc: 0.9674\n",
      "Epoch 2/5\n",
      " 6720/42000 [===>..........................] - ETA: 61s - loss: 0.0891 - acc: 0.9751"
     ]
    }
   ],
   "source": [
    "history = model.fit(x_train_1, y_train_1,\n",
    "                    batch_size=64, epochs=5,\n",
    "                    verbose=1,\n",
    "                    validation_data = (x_val, y_val),\n",
    "                    callbacks = [lossPlot])\n",
    "\n",
    "#predict the class labels\n",
    "score = model.evaluate(x_test, y_test, verbose = 0)\n",
    "print('Test accuracy: %.2f%%' % score[1])\n",
    "\n",
    "print('end')"
   ]
  },
  {
   "cell_type": "code",
   "execution_count": null,
   "metadata": {
    "collapsed": true
   },
   "outputs": [],
   "source": []
  }
 ],
 "metadata": {
  "kernelspec": {
   "display_name": "Python 3",
   "language": "python",
   "name": "python3"
  },
  "language_info": {
   "codemirror_mode": {
    "name": "ipython",
    "version": 3
   },
   "file_extension": ".py",
   "mimetype": "text/x-python",
   "name": "python",
   "nbconvert_exporter": "python",
   "pygments_lexer": "ipython3",
   "version": "3.7.1"
  }
 },
 "nbformat": 4,
 "nbformat_minor": 2
}
